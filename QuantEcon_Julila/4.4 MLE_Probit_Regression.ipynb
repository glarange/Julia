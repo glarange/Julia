{
 "cells": [
  {
   "cell_type": "code",
   "execution_count": 113,
   "metadata": {},
   "outputs": [],
   "source": [
    "from numpy import exp\n",
    "from numpy import log\n",
    "from scipy.special import factorial\n",
    "from scipy.stats import norm\n",
    "import matplotlib.pyplot as plt"
   ]
  },
  {
   "cell_type": "code",
   "execution_count": 114,
   "metadata": {},
   "outputs": [
    {
     "data": {
      "text/plain": [
       "0.3989422804014327"
      ]
     },
     "execution_count": 114,
     "metadata": {},
     "output_type": "execute_result"
    }
   ],
   "source": [
    "norm.pdf(0)"
   ]
  },
  {
   "cell_type": "code",
   "execution_count": 115,
   "metadata": {},
   "outputs": [
    {
     "data": {
      "text/plain": [
       "0.5"
      ]
     },
     "execution_count": 115,
     "metadata": {},
     "output_type": "execute_result"
    }
   ],
   "source": [
    "norm.cdf(0)"
   ]
  },
  {
   "cell_type": "code",
   "execution_count": 260,
   "metadata": {},
   "outputs": [],
   "source": [
    "import numpy as np\n",
    "class PoissonRegression:\n",
    "    \n",
    "    def __init__(self, y, X, β):\n",
    "        self.X, self.y, self.β = X, y, β \n",
    "        self.n, self.k = X.shape\n",
    "    \n",
    "    def μ(self):\n",
    "        return np.exp(self.X @ self.β.T)\n",
    "    \n",
    "    def logL(self): \n",
    "        y = self.y\n",
    "        μ = self.μ()\n",
    "        return np.sum(y * np.log(μ) - μ - np.log(factorial(y)))\n",
    "\n",
    "    def G(self):\n",
    "        μ = self.μ()\n",
    "        return ((self.y - μ) @ self.X).reshape(self.k, 1)\n",
    "    \n",
    "    def H(self):\n",
    "        X = self.X\n",
    "        μ = self.μ()\n",
    "        return -(μ * X.T @ X)"
   ]
  },
  {
   "cell_type": "code",
   "execution_count": 265,
   "metadata": {},
   "outputs": [],
   "source": [
    "X = np.array([[1, 2, 5],\n",
    "              [1, 1, 3],\n",
    "              [1, 4, 2],\n",
    "              [1, 5, 2],\n",
    "              [1, 3, 1]])\n",
    "y = np.array([1, 0, 1, 1, 0])\n",
    "# Take a guess at initial βs \n",
    "init_β = np.array([0.1, 0.1, 0.1])"
   ]
  },
  {
   "cell_type": "code",
   "execution_count": 267,
   "metadata": {},
   "outputs": [],
   "source": [
    "# Create an object with Poisson model values\n",
    "poi = PoissonRegression(y, X, β=init_β)"
   ]
  },
  {
   "cell_type": "code",
   "execution_count": 268,
   "metadata": {},
   "outputs": [
    {
     "data": {
      "text/plain": [
       "array([[  -9.76227711,  -30.22868241,  -26.201177  ],\n",
       "       [ -30.22868241, -113.24794295,  -70.51316785],\n",
       "       [ -26.201177  ,  -70.51316785,  -89.08291046]])"
      ]
     },
     "execution_count": 268,
     "metadata": {},
     "output_type": "execute_result"
    }
   ],
   "source": [
    "poi.H()"
   ]
  },
  {
   "cell_type": "code",
   "execution_count": 269,
   "metadata": {},
   "outputs": [
    {
     "data": {
      "text/plain": [
       "array([1, 0, 1, 1, 0])"
      ]
     },
     "execution_count": 269,
     "metadata": {},
     "output_type": "execute_result"
    }
   ],
   "source": [
    "poi.y"
   ]
  },
  {
   "cell_type": "code",
   "execution_count": 121,
   "metadata": {},
   "outputs": [
    {
     "data": {
      "text/plain": [
       "array([1, 2, 5])"
      ]
     },
     "execution_count": 121,
     "metadata": {},
     "output_type": "execute_result"
    }
   ],
   "source": [
    "X[0,]"
   ]
  },
  {
   "cell_type": "code",
   "execution_count": 270,
   "metadata": {},
   "outputs": [
    {
     "data": {
      "text/plain": [
       "array([[ -6.76227711],\n",
       "       [-19.22868241],\n",
       "       [-17.201177  ]])"
      ]
     },
     "execution_count": 270,
     "metadata": {},
     "output_type": "execute_result"
    }
   ],
   "source": [
    "poi.G()"
   ]
  },
  {
   "cell_type": "code",
   "execution_count": 271,
   "metadata": {},
   "outputs": [
    {
     "data": {
      "text/plain": [
       "5"
      ]
     },
     "execution_count": 271,
     "metadata": {},
     "output_type": "execute_result"
    }
   ],
   "source": [
    "poi.n"
   ]
  },
  {
   "cell_type": "code",
   "execution_count": 272,
   "metadata": {},
   "outputs": [
    {
     "data": {
      "text/plain": [
       "array([[ -6.76227711],\n",
       "       [-19.22868241],\n",
       "       [-17.201177  ]])"
      ]
     },
     "execution_count": 272,
     "metadata": {},
     "output_type": "execute_result"
    }
   ],
   "source": [
    "d = np.zeros((1,3))\n",
    "\n",
    "for i in range(poi.n):\n",
    "    d = d + (poi.y[i]-poi.μ()[i]) * X[i,]\n",
    "d.reshape(poi.k, 1)"
   ]
  },
  {
   "cell_type": "code",
   "execution_count": 127,
   "metadata": {},
   "outputs": [
    {
     "data": {
      "text/plain": [
       "array([1, 0, 1, 1, 0])"
      ]
     },
     "execution_count": 127,
     "metadata": {},
     "output_type": "execute_result"
    }
   ],
   "source": [
    "poi.y"
   ]
  },
  {
   "cell_type": "code",
   "execution_count": 128,
   "metadata": {},
   "outputs": [
    {
     "data": {
      "text/plain": [
       "array([2.22554093, 1.64872127, 2.01375271, 2.22554093, 1.64872127])"
      ]
     },
     "execution_count": 128,
     "metadata": {},
     "output_type": "execute_result"
    }
   ],
   "source": [
    "poi.μ()"
   ]
  },
  {
   "cell_type": "code",
   "execution_count": 129,
   "metadata": {},
   "outputs": [
    {
     "data": {
      "text/plain": [
       "[0.1, 0.1, 0.1]"
      ]
     },
     "execution_count": 129,
     "metadata": {},
     "output_type": "execute_result"
    }
   ],
   "source": [
    "list(init_β)"
   ]
  },
  {
   "cell_type": "code",
   "execution_count": 130,
   "metadata": {},
   "outputs": [],
   "source": [
    "def newton_raphson(model, tol=1e-3, max_iter=1000, display=True):\n",
    "\n",
    "    i = 0\n",
    "    error = 100  # Initial error value\n",
    "\n",
    "    # Print header of output\n",
    "    if display:\n",
    "        header = f'{\"Iteration_k\":<13}{\"Log-likelihood\":<16}{\"θ\":<60}'\n",
    "        print(header)\n",
    "        print(\"-\" * len(header))\n",
    "\n",
    "    # While loop runs while any value in error is greater\n",
    "    # than the tolerance until max iterations are reached\n",
    "    while np.any(error > tol) and i < max_iter:\n",
    "        H, G = model.H(), model.G()\n",
    "        β_new = model.β - (np.linalg.inv(H) @ G).T\n",
    "        error = β_new - model.β\n",
    "        model.β = β_new.flatten()\n",
    "\n",
    "        # Print iterations\n",
    "        if display:\n",
    "            β_list = [f'{t:.3}' for t in list(model.β)]\n",
    "            update = f'{i:<13}{model.logL():<16.8}{β_list}'\n",
    "            print(update)\n",
    "\n",
    "        i += 1\n",
    "\n",
    "    print(f'Number of iterations: {i}')\n",
    "    print(f'β_hat = {model.β}')\n",
    "\n",
    "    return model.β"
   ]
  },
  {
   "cell_type": "code",
   "execution_count": 131,
   "metadata": {},
   "outputs": [
    {
     "name": "stdout",
     "output_type": "stream",
     "text": [
      "Iteration_k  Log-likelihood  θ                                                           \n",
      "-----------------------------------------------------------------------------------------\n",
      "0            -4.3447622      ['-1.49', '0.265', '0.244']\n",
      "1            -3.5742413      ['-3.38', '0.528', '0.474']\n",
      "2            -3.3999526      ['-5.06', '0.782', '0.702']\n",
      "3            -3.3788646      ['-5.92', '0.909', '0.82']\n",
      "4            -3.3783559      ['-6.07', '0.933', '0.843']\n",
      "5            -3.3783555      ['-6.08', '0.933', '0.843']\n",
      "Number of iterations: 6\n",
      "β_hat = [-6.07848205  0.93340226  0.84329625]\n"
     ]
    }
   ],
   "source": [
    "X = np.array([[1, 2, 5],\n",
    "              [1, 1, 3],\n",
    "              [1, 4, 2],\n",
    "              [1, 5, 2],\n",
    "              [1, 3, 1]])\n",
    "\n",
    "y = np.array([1, 0, 1, 1, 0])\n",
    "\n",
    "# Take a guess at initial βs\n",
    "init_β = np.array([0.1, 0.1, 0.1])\n",
    "\n",
    "# Create an object with Poisson model values\n",
    "poi = PoissonRegression(y, X, β=init_β)\n",
    "\n",
    "# Use newton_raphson to find the MLE\n",
    "β_hat = newton_raphson(poi, display=True)"
   ]
  },
  {
   "cell_type": "code",
   "execution_count": 132,
   "metadata": {},
   "outputs": [
    {
     "name": "stdout",
     "output_type": "stream",
     "text": [
      "Optimization terminated successfully.\n",
      "         Current function value: 0.675671\n",
      "         Iterations 7\n",
      "                          Poisson Regression Results                          \n",
      "==============================================================================\n",
      "Dep. Variable:                      y   No. Observations:                    5\n",
      "Model:                        Poisson   Df Residuals:                        2\n",
      "Method:                           MLE   Df Model:                            2\n",
      "Date:                Sun, 10 Jun 2018   Pseudo R-squ.:                  0.2546\n",
      "Time:                        17:46:55   Log-Likelihood:                -3.3784\n",
      "converged:                       True   LL-Null:                       -4.5325\n",
      "                                        LLR p-value:                    0.3153\n",
      "==============================================================================\n",
      "                 coef    std err          z      P>|z|      [0.025      0.975]\n",
      "------------------------------------------------------------------------------\n",
      "const         -6.0785      5.279     -1.151      0.250     -16.425       4.268\n",
      "x1             0.9334      0.829      1.126      0.260      -0.691       2.558\n",
      "x2             0.8433      0.798      1.057      0.291      -0.720       2.407\n",
      "==============================================================================\n"
     ]
    }
   ],
   "source": [
    "from statsmodels.api import Poisson\n",
    "from scipy import stats\n",
    "stats.chisqprob = lambda chisq, df: stats.chi2.sf(chisq, df)\n",
    "\n",
    "X = np.array([[1, 2, 5],\n",
    "              [1, 1, 3],\n",
    "              [1, 4, 2],\n",
    "              [1, 5, 2],\n",
    "              [1, 3, 1]])\n",
    "\n",
    "y = np.array([1, 0, 1, 1, 0])\n",
    "\n",
    "stats_poisson = Poisson(y, X).fit()\n",
    "print(stats_poisson.summary())"
   ]
  },
  {
   "cell_type": "code",
   "execution_count": 27,
   "metadata": {},
   "outputs": [
    {
     "data": {
      "text/html": [
       "<div>\n",
       "<style scoped>\n",
       "    .dataframe tbody tr th:only-of-type {\n",
       "        vertical-align: middle;\n",
       "    }\n",
       "\n",
       "    .dataframe tbody tr th {\n",
       "        vertical-align: top;\n",
       "    }\n",
       "\n",
       "    .dataframe thead th {\n",
       "        text-align: right;\n",
       "    }\n",
       "</style>\n",
       "<table border=\"1\" class=\"dataframe\">\n",
       "  <thead>\n",
       "    <tr style=\"text-align: right;\">\n",
       "      <th></th>\n",
       "      <th>country</th>\n",
       "      <th>ccode</th>\n",
       "      <th>year</th>\n",
       "      <th>cyear</th>\n",
       "      <th>numbil</th>\n",
       "      <th>...</th>\n",
       "      <th>topint08</th>\n",
       "      <th>rintr</th>\n",
       "      <th>noyrs</th>\n",
       "      <th>roflaw</th>\n",
       "      <th>nrrents</th>\n",
       "    </tr>\n",
       "  </thead>\n",
       "  <tbody>\n",
       "    <tr>\n",
       "      <th>0</th>\n",
       "      <td>United States</td>\n",
       "      <td>2.0</td>\n",
       "      <td>1990.0</td>\n",
       "      <td>21990.0</td>\n",
       "      <td>NaN</td>\n",
       "      <td>...</td>\n",
       "      <td>39.799999</td>\n",
       "      <td>4.988405</td>\n",
       "      <td>20.0</td>\n",
       "      <td>1.61</td>\n",
       "      <td>NaN</td>\n",
       "    </tr>\n",
       "    <tr>\n",
       "      <th>1</th>\n",
       "      <td>United States</td>\n",
       "      <td>2.0</td>\n",
       "      <td>1991.0</td>\n",
       "      <td>21991.0</td>\n",
       "      <td>NaN</td>\n",
       "      <td>...</td>\n",
       "      <td>39.799999</td>\n",
       "      <td>4.988405</td>\n",
       "      <td>20.0</td>\n",
       "      <td>1.61</td>\n",
       "      <td>NaN</td>\n",
       "    </tr>\n",
       "    <tr>\n",
       "      <th>2</th>\n",
       "      <td>United States</td>\n",
       "      <td>2.0</td>\n",
       "      <td>1992.0</td>\n",
       "      <td>21992.0</td>\n",
       "      <td>NaN</td>\n",
       "      <td>...</td>\n",
       "      <td>39.799999</td>\n",
       "      <td>4.988405</td>\n",
       "      <td>20.0</td>\n",
       "      <td>1.61</td>\n",
       "      <td>NaN</td>\n",
       "    </tr>\n",
       "    <tr>\n",
       "      <th>3</th>\n",
       "      <td>United States</td>\n",
       "      <td>2.0</td>\n",
       "      <td>1993.0</td>\n",
       "      <td>21993.0</td>\n",
       "      <td>NaN</td>\n",
       "      <td>...</td>\n",
       "      <td>39.799999</td>\n",
       "      <td>4.988405</td>\n",
       "      <td>20.0</td>\n",
       "      <td>1.61</td>\n",
       "      <td>NaN</td>\n",
       "    </tr>\n",
       "    <tr>\n",
       "      <th>4</th>\n",
       "      <td>United States</td>\n",
       "      <td>2.0</td>\n",
       "      <td>1994.0</td>\n",
       "      <td>21994.0</td>\n",
       "      <td>NaN</td>\n",
       "      <td>...</td>\n",
       "      <td>39.799999</td>\n",
       "      <td>4.988405</td>\n",
       "      <td>20.0</td>\n",
       "      <td>1.61</td>\n",
       "      <td>NaN</td>\n",
       "    </tr>\n",
       "  </tbody>\n",
       "</table>\n",
       "<p>5 rows × 36 columns</p>\n",
       "</div>"
      ],
      "text/plain": [
       "         country  ccode    year    cyear  numbil   ...      topint08  \\\n",
       "0  United States    2.0  1990.0  21990.0     NaN   ...     39.799999   \n",
       "1  United States    2.0  1991.0  21991.0     NaN   ...     39.799999   \n",
       "2  United States    2.0  1992.0  21992.0     NaN   ...     39.799999   \n",
       "3  United States    2.0  1993.0  21993.0     NaN   ...     39.799999   \n",
       "4  United States    2.0  1994.0  21994.0     NaN   ...     39.799999   \n",
       "\n",
       "      rintr  noyrs  roflaw  nrrents  \n",
       "0  4.988405   20.0    1.61      NaN  \n",
       "1  4.988405   20.0    1.61      NaN  \n",
       "2  4.988405   20.0    1.61      NaN  \n",
       "3  4.988405   20.0    1.61      NaN  \n",
       "4  4.988405   20.0    1.61      NaN  \n",
       "\n",
       "[5 rows x 36 columns]"
      ]
     },
     "execution_count": 27,
     "metadata": {},
     "output_type": "execute_result"
    }
   ],
   "source": [
    "import pandas as pd\n",
    "pd.options.display.max_columns = 10\n",
    "\n",
    "# Load in data and view\n",
    "df = pd.read_stata('https://github.com/QuantEcon/QuantEcon.lectures.code/raw/master/mle/fp.dta')\n",
    "df.head()"
   ]
  },
  {
   "cell_type": "code",
   "execution_count": 28,
   "metadata": {},
   "outputs": [],
   "source": [
    "# Keep only year 2008\n",
    "df = df[df['year'] == 2008]"
   ]
  },
  {
   "cell_type": "code",
   "execution_count": 29,
   "metadata": {},
   "outputs": [],
   "source": [
    "# Add a constant\n",
    "df['const'] = 1\n",
    "\n",
    "# Variable sets\n",
    "reg1 = ['const', 'lngdppc', 'lnpop', 'gattwto08']\n",
    "reg2 = ['const', 'lngdppc', 'lnpop',\n",
    "        'gattwto08', 'lnmcap08', 'rintr', 'topint08']\n",
    "reg3 = ['const', 'lngdppc', 'lnpop', 'gattwto08', 'lnmcap08',\n",
    "        'rintr', 'topint08', 'nrrents', 'roflaw']"
   ]
  },
  {
   "cell_type": "code",
   "execution_count": 30,
   "metadata": {},
   "outputs": [
    {
     "name": "stdout",
     "output_type": "stream",
     "text": [
      "Optimization terminated successfully.\n",
      "         Current function value: 2.226090\n",
      "         Iterations 9\n",
      "                          Poisson Regression Results                          \n",
      "==============================================================================\n",
      "Dep. Variable:                numbil0   No. Observations:                  197\n",
      "Model:                        Poisson   Df Residuals:                      193\n",
      "Method:                           MLE   Df Model:                            3\n",
      "Date:                Sun, 10 Jun 2018   Pseudo R-squ.:                  0.8574\n",
      "Time:                        11:06:40   Log-Likelihood:                -438.54\n",
      "converged:                       True   LL-Null:                       -3074.7\n",
      "                                        LLR p-value:                     0.000\n",
      "==============================================================================\n",
      "                 coef    std err          z      P>|z|      [0.025      0.975]\n",
      "------------------------------------------------------------------------------\n",
      "const        -29.0495      2.578    -11.268      0.000     -34.103     -23.997\n",
      "lngdppc        1.0839      0.138      7.834      0.000       0.813       1.355\n",
      "lnpop          1.1714      0.097     12.024      0.000       0.980       1.362\n",
      "gattwto08      0.0060      0.007      0.868      0.386      -0.008       0.019\n",
      "==============================================================================\n"
     ]
    }
   ],
   "source": [
    "import statsmodels.api as sm\n",
    "\n",
    "# Specify model\n",
    "poisson_reg = sm.Poisson(df[['numbil0']], df[reg1],\n",
    "                         missing='drop').fit(cov_type='HC0')\n",
    "print(poisson_reg.summary())"
   ]
  },
  {
   "cell_type": "code",
   "execution_count": 353,
   "metadata": {},
   "outputs": [],
   "source": [
    "class ProbitRegr:\n",
    "    \n",
    "    def __init__(self, y, X, β):\n",
    "        self.X, self.y, self.β = X, y, β \n",
    "        self.N, self.k = X.shape\n",
    "    \n",
    "    def μ(self,i, q=1):\n",
    "        return norm.cdf(q*self.X[i,] @ self.β.T)\n",
    "    \n",
    "    def f(self,i, q=1):\n",
    "        return norm.pdf(q*self.X[i,] @ self.β.T)\n",
    "    \n",
    "    def λ(self,i):\n",
    "        y = self.y\n",
    "        q = 2*y[i]-1\n",
    "        λ = self.f(i, q)/self.μ(i, q)*q\n",
    "        return λ\n",
    "\n",
    "    def logL(self): \n",
    "        y = self.y\n",
    "        L = 0\n",
    "        for i in range(self.N):\n",
    "            L = L + y[i]*log(self.μ(i)) + (1-y[i])*log(1-self.μ(i))\n",
    "        return L\n",
    "    \n",
    "    def G(self):\n",
    "        y = self.y\n",
    "        X = self.X\n",
    "        G = 0\n",
    "        for i in range(self.N):\n",
    "            G = G + self.f(i)/((1-self.μ(i))*(self.μ(i)))*(y[i]-self.μ(i))*X[i,]\n",
    "        return G.reshape(self.k, 1)\n",
    "    \n",
    "    def H(self):\n",
    "        X = self.X\n",
    "        β = self.β\n",
    "        H = 0\n",
    "        for i in range(self.N):\n",
    "            X_i = X[i,].reshape(self.k,1)\n",
    "            H = H - self.λ(i)*(X[i,]@self.β + self.λ(i))*(X_i@X_i.T)\n",
    "        return H"
   ]
  },
  {
   "cell_type": "code",
   "execution_count": 357,
   "metadata": {},
   "outputs": [
    {
     "name": "stdout",
     "output_type": "stream",
     "text": [
      "Iteration_k  Log-likelihood  θ                                                           \n",
      "-----------------------------------------------------------------------------------------\n",
      "0            -2.3796884      ['-1.34', '0.775', '-0.157']\n",
      "1            -2.3687526      ['-1.53', '0.775', '-0.0981']\n",
      "2            -2.3687294      ['-1.55', '0.778', '-0.0971']\n",
      "3            -2.3687294      ['-1.55', '0.778', '-0.0971']\n",
      "Number of iterations: 4\n",
      "β_hat = [-1.54625858  0.77778952 -0.09709757]\n"
     ]
    }
   ],
   "source": [
    "X = np.array([[1, 2, 4],\n",
    "              [1, 1, 1],\n",
    "              [1, 4, 3],\n",
    "              [1, 5, 6],\n",
    "              [1, 3, 5]])\n",
    "\n",
    "y = np.array([1, 0, 1, 1, 0])\n",
    "\n",
    "# Take a guess at initial βs\n",
    "β = np.array([0.1, 0.1, 0.1])\n",
    "\n",
    "# Create an object with Probit model values\n",
    "prob = ProbitRegr(y, X, β)\n",
    "\n",
    "# Use newton_raphson to find the MLE\n",
    "β_hat = newton_raphson(prob, display=True)"
   ]
  },
  {
   "cell_type": "code",
   "execution_count": 250,
   "metadata": {},
   "outputs": [],
   "source": [
    "from statsmodels.discrete.discrete_model import Probit"
   ]
  },
  {
   "cell_type": "code",
   "execution_count": 337,
   "metadata": {},
   "outputs": [
    {
     "name": "stdout",
     "output_type": "stream",
     "text": [
      "Optimization terminated successfully.\n",
      "         Current function value: 0.473746\n",
      "         Iterations 6\n",
      "                          Probit Regression Results                           \n",
      "==============================================================================\n",
      "Dep. Variable:                      y   No. Observations:                    5\n",
      "Model:                         Probit   Df Residuals:                        2\n",
      "Method:                           MLE   Df Model:                            2\n",
      "Date:                Mon, 11 Jun 2018   Pseudo R-squ.:                  0.2961\n",
      "Time:                        10:16:05   Log-Likelihood:                -2.3687\n",
      "converged:                       True   LL-Null:                       -3.3651\n",
      "                                        LLR p-value:                    0.3692\n",
      "==============================================================================\n",
      "                 coef    std err          z      P>|z|      [0.025      0.975]\n",
      "------------------------------------------------------------------------------\n",
      "const         -1.5463      1.866     -0.829      0.407      -5.204       2.111\n",
      "x1             0.7778      0.788      0.986      0.324      -0.768       2.323\n",
      "x2            -0.0971      0.590     -0.165      0.869      -1.254       1.060\n",
      "==============================================================================\n"
     ]
    }
   ],
   "source": [
    "print(Probit(y, X).fit().summary())"
   ]
  },
  {
   "cell_type": "code",
   "execution_count": null,
   "metadata": {},
   "outputs": [],
   "source": []
  }
 ],
 "metadata": {
  "kernelspec": {
   "display_name": "Python 3",
   "language": "python",
   "name": "python3"
  },
  "language_info": {
   "codemirror_mode": {
    "name": "ipython",
    "version": 3
   },
   "file_extension": ".py",
   "mimetype": "text/x-python",
   "name": "python",
   "nbconvert_exporter": "python",
   "pygments_lexer": "ipython3",
   "version": "3.6.5"
  }
 },
 "nbformat": 4,
 "nbformat_minor": 2
}
