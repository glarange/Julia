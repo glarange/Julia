{
 "cells": [
  {
   "cell_type": "code",
   "execution_count": 19,
   "metadata": {},
   "outputs": [],
   "source": [
    "import re\n",
    "import numpy as np\n",
    "import quantecon as qe"
   ]
  },
  {
   "cell_type": "code",
   "execution_count": 3,
   "metadata": {},
   "outputs": [
    {
     "name": "stdout",
     "output_type": "stream",
     "text": [
      "Overwriting graph.txt\n"
     ]
    }
   ],
   "source": [
    "%%file graph.txt\n",
    "node0, node1 0.04, node8 11.11, node14 72.21\n",
    "node1, node46 1247.25, node6 20.59, node13 64.94\n",
    "node2, node66 54.18, node31 166.80, node45 1561.45\n",
    "node3, node20 133.65, node6 2.06, node11 42.43\n",
    "node4, node75 3706.67, node5 0.73, node7 1.02\n",
    "node5, node45 1382.97, node7 3.33, node11 34.54\n",
    "node6, node31 63.17, node9 0.72, node10 13.10\n",
    "node7, node50 478.14, node9 3.15, node10 5.85\n",
    "node8, node69 577.91, node11 7.45, node12 3.18\n",
    "node9, node70 2454.28, node13 4.42, node20 16.53\n",
    "node10, node89 5352.79, node12 1.87, node16 25.16\n",
    "node11, node94 4961.32, node18 37.55, node20 65.08\n",
    "node12, node84 3914.62, node24 34.32, node28 170.04\n",
    "node13, node60 2135.95, node38 236.33, node40 475.33\n",
    "node14, node67 1878.96, node16 2.70, node24 38.65\n",
    "node15, node91 3597.11, node17 1.01, node18 2.57\n",
    "node16, node36 392.92, node19 3.49, node38 278.71\n",
    "node17, node76 783.29, node22 24.78, node23 26.45\n",
    "node18, node91 3363.17, node23 16.23, node28 55.84\n",
    "node19, node26 20.09, node20 0.24, node28 70.54\n",
    "node20, node98 3523.33, node24 9.81, node33 145.80\n",
    "node21, node56 626.04, node28 36.65, node31 27.06\n",
    "node22, node72 1447.22, node39 136.32, node40 124.22\n",
    "node23, node52 336.73, node26 2.66, node33 22.37\n",
    "node24, node66 875.19, node26 1.80, node28 14.25\n",
    "node25, node70 1343.63, node32 36.58, node35 45.55\n",
    "node26, node47 135.78, node27 0.01, node42 122.00\n",
    "node27, node65 480.55, node35 48.10, node43 246.24\n",
    "node28, node82 2538.18, node34 21.79, node36 15.52\n",
    "node29, node64 635.52, node32 4.22, node33 12.61\n",
    "node30, node98 2616.03, node33 5.61, node35 13.95\n",
    "node31, node98 3350.98, node36 20.44, node44 125.88\n",
    "node32, node97 2613.92, node34 3.33, node35 1.46\n",
    "node33, node81 1854.73, node41 3.23, node47 111.54\n",
    "node34, node73 1075.38, node42 51.52, node48 129.45\n",
    "node35, node52 17.57, node41 2.09, node50 78.81\n",
    "node36, node71 1171.60, node54 101.08, node57 260.46\n",
    "node37, node75 269.97, node38 0.36, node46 80.49\n",
    "node38, node93 2767.85, node40 1.79, node42 8.78\n",
    "node39, node50 39.88, node40 0.95, node41 1.34\n",
    "node40, node75 548.68, node47 28.57, node54 53.46\n",
    "node41, node53 18.23, node46 0.28, node54 162.24\n",
    "node42, node59 141.86, node47 10.08, node72 437.49\n",
    "node43, node98 2984.83, node54 95.06, node60 116.23\n",
    "node44, node91 807.39, node46 1.56, node47 2.14\n",
    "node45, node58 79.93, node47 3.68, node49 15.51\n",
    "node46, node52 22.68, node57 27.50, node67 65.48\n",
    "node47, node50 2.82, node56 49.31, node61 172.64\n",
    "node48, node99 2564.12, node59 34.52, node60 66.44\n",
    "node49, node78 53.79, node50 0.51, node56 10.89\n",
    "node50, node85 251.76, node53 1.38, node55 20.10\n",
    "node51, node98 2110.67, node59 23.67, node60 73.79\n",
    "node52, node94 1471.80, node64 102.41, node66 123.03\n",
    "node53, node72 22.85, node56 4.33, node67 88.35\n",
    "node54, node88 967.59, node59 24.30, node73 238.61\n",
    "node55, node84 86.09, node57 2.13, node64 60.80\n",
    "node56, node76 197.03, node57 0.02, node61 11.06\n",
    "node57, node86 701.09, node58 0.46, node60 7.01\n",
    "node58, node83 556.70, node64 29.85, node65 34.32\n",
    "node59, node90 820.66, node60 0.72, node71 0.67\n",
    "node60, node76 48.03, node65 4.76, node67 1.63\n",
    "node61, node98 1057.59, node63 0.95, node64 4.88\n",
    "node62, node91 132.23, node64 2.94, node76 38.43\n",
    "node63, node66 4.43, node72 70.08, node75 56.34\n",
    "node64, node80 47.73, node65 0.30, node76 11.98\n",
    "node65, node94 594.93, node66 0.64, node73 33.23\n",
    "node66, node98 395.63, node68 2.66, node73 37.53\n",
    "node67, node82 153.53, node68 0.09, node70 0.98\n",
    "node68, node94 232.10, node70 3.35, node71 1.66\n",
    "node69, node99 247.80, node70 0.06, node73 8.99\n",
    "node70, node76 27.18, node72 1.50, node73 8.37\n",
    "node71, node89 104.50, node74 8.86, node91 284.64\n",
    "node72, node76 15.32, node84 102.77, node92 133.06\n",
    "node73, node83 52.22, node76 1.40, node90 243.00\n",
    "node74, node81 1.07, node76 0.52, node78 8.08\n",
    "node75, node92 68.53, node76 0.81, node77 1.19\n",
    "node76, node85 13.18, node77 0.45, node78 2.36\n",
    "node77, node80 8.94, node78 0.98, node86 64.32\n",
    "node78, node98 355.90, node81 2.59\n",
    "node79, node81 0.09, node85 1.45, node91 22.35\n",
    "node80, node92 121.87, node88 28.78, node98 264.34\n",
    "node81, node94 99.78, node89 39.52, node92 99.89\n",
    "node82, node91 47.44, node88 28.05, node93 11.99\n",
    "node83, node94 114.95, node86 8.75, node88 5.78\n",
    "node84, node89 19.14, node94 30.41, node98 121.05\n",
    "node85, node97 94.51, node87 2.66, node89 4.90\n",
    "node86, node97 85.09\n",
    "node87, node88 0.21, node91 11.14, node92 21.23\n",
    "node88, node93 1.31, node91 6.83, node98 6.12\n",
    "node89, node97 36.97, node99 82.12\n",
    "node90, node96 23.53, node94 10.47, node99 50.99\n",
    "node91, node97 22.17\n",
    "node92, node96 10.83, node97 11.24, node99 34.68\n",
    "node93, node94 0.19, node97 6.71, node99 32.77\n",
    "node94, node98 5.91, node96 2.03\n",
    "node95, node98 6.17, node99 0.27\n",
    "node96, node98 3.32, node97 0.43, node99 5.87\n",
    "node97, node98 0.30\n",
    "node98, node99 0.33\n",
    "node99,"
   ]
  },
  {
   "cell_type": "code",
   "execution_count": 20,
   "metadata": {},
   "outputs": [],
   "source": [
    "# Calculate C and F as defined in the Problem\n",
    "g = open('graph.txt', 'r')\n",
    "N = 100\n",
    "F = np.zeros((N,3), dtype = int)\n",
    "C = np.zeros((N,3), dtype = float)\n",
    "for i,line in enumerate(g):\n",
    "    map = ([float(s) for s in re.findall(r'-?\\d+\\.?\\d*', line)])\n",
    "    for j in range(len(map)//2):\n",
    "        C[i,j] = map[j*2+2]\n",
    "        F[i,j] = int(map[j*2+1])\n",
    "g.close()"
   ]
  },
  {
   "cell_type": "code",
   "execution_count": 148,
   "metadata": {},
   "outputs": [
    {
     "data": {
      "text/plain": [
       "85484848"
      ]
     },
     "execution_count": 148,
     "metadata": {},
     "output_type": "execute_result"
    }
   ],
   "source": [
    "# Initialize J\n",
    "M = 100000\n",
    "J_0 = np.ones(N)*M\n",
    "J_0[99]=0\n",
    "id(J_0)"
   ]
  },
  {
   "cell_type": "code",
   "execution_count": 149,
   "metadata": {},
   "outputs": [],
   "source": [
    "# Update J\n",
    "def update_J(J_old, F, C):\n",
    "    J_upd = J_old.copy()  ######## Important, must be a copy, otherwise modifies in place! #####\n",
    "    for v in range(len(J_upd)):\n",
    "        for i,w in enumerate(F[v]):\n",
    "            J_upd[v] = min(C[v,i] + J_old[w], J_upd[v])\n",
    "    return J_upd\n",
    "\n",
    "def Δ(J_old, J_new):\n",
    "    return max(abs(J_old-J_new))"
   ]
  },
  {
   "cell_type": "code",
   "execution_count": 150,
   "metadata": {},
   "outputs": [
    {
     "data": {
      "text/plain": [
       "array([1.6055e+02, 1.6226e+02, 8.8520e+01, 1.4373e+02, 1.4512e+02,\n",
       "       1.4743e+02, 1.4167e+02, 1.4410e+02, 1.4944e+02, 1.4095e+02,\n",
       "       1.5080e+02, 1.4199e+02, 1.4893e+02, 3.0377e+02, 1.3085e+02,\n",
       "       1.0701e+02, 1.2815e+02, 1.1466e+02, 1.0444e+02, 1.2466e+02,\n",
       "       1.2442e+02, 1.6862e+02, 2.0027e+02, 8.8210e+01, 1.1461e+02,\n",
       "       1.0274e+02, 1.1281e+02, 1.1280e+02, 1.3197e+02, 7.0380e+01,\n",
       "       7.1450e+01, 1.7651e+02, 6.6160e+01, 6.5840e+01, 1.1018e+02,\n",
       "       6.4700e+01, 1.5607e+02, 6.7800e+01, 6.7440e+01, 6.3950e+01,\n",
       "       7.7150e+01, 6.2610e+01, 5.8660e+01, 1.4925e+02, 5.0720e+01,\n",
       "       5.2260e+01, 6.7530e+01, 4.8580e+01, 6.5210e+01, 4.6270e+01,\n",
       "       4.5760e+01, 5.4360e+01, 1.3503e+02, 4.4380e+01, 5.4990e+01,\n",
       "       4.2160e+01, 4.0050e+01, 4.0030e+01, 6.2470e+01, 3.0690e+01,\n",
       "       3.3020e+01, 3.7500e+01, 3.5560e+01, 3.8770e+01, 3.2620e+01,\n",
       "       3.4980e+01, 3.4340e+01, 3.1390e+01, 3.1680e+01, 3.0470e+01,\n",
       "       3.0410e+01, 3.0020e+01, 3.5960e+01, 2.2040e+01, 2.1160e+01,\n",
       "       2.1450e+01, 2.0640e+01, 4.2310e+01, 7.9710e+01, 8.9100e+00,\n",
       "       3.3370e+01, 7.7120e+01, 1.5270e+01, 1.0370e+01, 3.3500e+01,\n",
       "       7.4600e+00, 8.5720e+01, 4.8000e+00, 4.5900e+00, 3.7600e+01,\n",
       "       1.3560e+01, 2.2800e+01, 1.1870e+01, 3.2800e+00, 3.0900e+00,\n",
       "       2.7000e-01, 1.0600e+00, 6.3000e-01, 3.3000e-01, 0.0000e+00])"
      ]
     },
     "execution_count": 150,
     "metadata": {},
     "output_type": "execute_result"
    }
   ],
   "source": [
    "# Compare J_n and J_n+1. Re-iterate until convergence within tolerance achieved\n",
    "J_old = np.copy(J_0)\n",
    "update_J(J_old, F, C)\n",
    "J_new = np.copy(J)\n",
    "\n",
    "tolerance = 0.001\n",
    "while Δ(J_old,J_new) > tolerance:\n",
    "    J_old = np.copy(J_new)\n",
    "    J = update_J(J_new,F,C)\n",
    "    J_new = np.copy(J)\n",
    "J_new"
   ]
  },
  {
   "cell_type": "code",
   "execution_count": 154,
   "metadata": {},
   "outputs": [],
   "source": [
    "# J_f is the result of the J_n+1 convergence algorithm\n",
    "J_s= np.copy(J_new)"
   ]
  },
  {
   "cell_type": "code",
   "execution_count": 155,
   "metadata": {},
   "outputs": [],
   "source": [
    "# Start down the path\n",
    "v_path = 0\n",
    "path = [v_path]"
   ]
  },
  {
   "cell_type": "code",
   "execution_count": 156,
   "metadata": {},
   "outputs": [
    {
     "name": "stdout",
     "output_type": "stream",
     "text": [
      "Path:  [ 0  8 11 18 23 33 41 53 56 57 60 67 70 73 76 85 87 88 93 94 96 97 98 99]\n",
      "Cost:  160.55\n"
     ]
    }
   ],
   "source": [
    "while (v_path != 99):\n",
    "    i_path = np.argmin([(C[v_path,i] + J_s[w]) for i,w in enumerate(F[v_path])])\n",
    "    v_path = F[v_path][i_path]\n",
    "    path = np.append(path,v_path)\n",
    "\n",
    "print('Path: ', path)\n",
    "print('Cost: ', J_f[0])"
   ]
  },
  {
   "cell_type": "code",
   "execution_count": null,
   "metadata": {},
   "outputs": [],
   "source": []
  }
 ],
 "metadata": {
  "kernelspec": {
   "display_name": "Python 3",
   "language": "python",
   "name": "python3"
  },
  "language_info": {
   "codemirror_mode": {
    "name": "ipython",
    "version": 3
   },
   "file_extension": ".py",
   "mimetype": "text/x-python",
   "name": "python",
   "nbconvert_exporter": "python",
   "pygments_lexer": "ipython3",
   "version": "3.6.5"
  }
 },
 "nbformat": 4,
 "nbformat_minor": 2
}
