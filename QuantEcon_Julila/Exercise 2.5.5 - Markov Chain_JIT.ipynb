{
 "cells": [
  {
   "cell_type": "code",
   "execution_count": 43,
   "metadata": {},
   "outputs": [],
   "source": [
    "import numpy as np\n",
    "from numpy.random import binomial\n",
    "import quantecon as qe\n",
    "from numba import jit"
   ]
  },
  {
   "cell_type": "code",
   "execution_count": 33,
   "metadata": {},
   "outputs": [],
   "source": [
    "def C(x0, n):\n",
    "    x = np.empty(n+1)\n",
    "    x[0] = x0\n",
    "    for t in range(n):\n",
    "        if x[t]==0:\n",
    "            x[t+1] = binomial(1,.1) # if 0 (Low) move to 1 (High) with P=.1\n",
    "        else:\n",
    "            x[t+1] = binomial(1,.8)\n",
    "    return(x)"
   ]
  },
  {
   "cell_type": "code",
   "execution_count": 41,
   "metadata": {},
   "outputs": [
    {
     "name": "stdout",
     "output_type": "stream",
     "text": [
      "TOC: Elapsed: 0:00:0.25\n"
     ]
    }
   ],
   "source": [
    "qe.util.tic()\n",
    "MC = C(0,100000)\n",
    "time1 =qe.util.toc()"
   ]
  },
  {
   "cell_type": "code",
   "execution_count": 42,
   "metadata": {},
   "outputs": [
    {
     "data": {
      "text/plain": [
       "0.33152668473315267"
      ]
     },
     "execution_count": 42,
     "metadata": {},
     "output_type": "execute_result"
    }
   ],
   "source": [
    "np.mean(MC)"
   ]
  },
  {
   "cell_type": "code",
   "execution_count": 45,
   "metadata": {},
   "outputs": [],
   "source": [
    "C_numba = jit(C)"
   ]
  },
  {
   "cell_type": "code",
   "execution_count": 49,
   "metadata": {},
   "outputs": [
    {
     "name": "stdout",
     "output_type": "stream",
     "text": [
      "TOC: Elapsed: 0:00:0.00\n"
     ]
    }
   ],
   "source": [
    "qe.util.tic()\n",
    "C_numba(0,100000)\n",
    "time2 = qe.util.toc()"
   ]
  },
  {
   "cell_type": "code",
   "execution_count": 50,
   "metadata": {},
   "outputs": [
    {
     "data": {
      "text/plain": [
       "126.49421861962094"
      ]
     },
     "execution_count": 50,
     "metadata": {},
     "output_type": "execute_result"
    }
   ],
   "source": [
    "time1/time2"
   ]
  },
  {
   "cell_type": "markdown",
   "metadata": {},
   "source": [
    "Or we could  have simply used the @jit decorator instruction. Now onto the Cython version:"
   ]
  },
  {
   "cell_type": "code",
   "execution_count": 51,
   "metadata": {},
   "outputs": [],
   "source": [
    "%load_ext Cython"
   ]
  },
  {
   "cell_type": "code",
   "execution_count": 70,
   "metadata": {},
   "outputs": [
    {
     "name": "stderr",
     "output_type": "stream",
     "text": [
      "\n",
      "Error compiling Cython file:\n",
      "------------------------------------------------------------\n",
      "...\n",
      "    \n",
      "    x_np = np.zeros(n+1, dtype=int)\n",
      "    b_np_0 = np.random.binomial(1,.1, n)\n",
      "    b_np_1 = np.random.binomial(1,.8, n)\n",
      "    \n",
      "    cdef int_t [:] x = x_np\n",
      "        ^\n",
      "------------------------------------------------------------\n",
      "\n",
      "C:\\Users\\Glarange\\.ipython\\cython\\_cython_magic_628b80209da3b4c808191ea7345c930b.pyx:14:9: 'int_t' is not a type identifier\n",
      "\n",
      "Error compiling Cython file:\n",
      "------------------------------------------------------------\n",
      "...\n",
      "    x_np = np.zeros(n+1, dtype=int)\n",
      "    b_np_0 = np.random.binomial(1,.1, n)\n",
      "    b_np_1 = np.random.binomial(1,.8, n)\n",
      "    \n",
      "    cdef int_t [:] x = x_np\n",
      "    cdef int_t [:] b_0 = b_np_0\n",
      "        ^\n",
      "------------------------------------------------------------\n",
      "\n",
      "C:\\Users\\Glarange\\.ipython\\cython\\_cython_magic_628b80209da3b4c808191ea7345c930b.pyx:15:9: 'int_t' is not a type identifier\n",
      "\n",
      "Error compiling Cython file:\n",
      "------------------------------------------------------------\n",
      "...\n",
      "    b_np_0 = np.random.binomial(1,.1, n)\n",
      "    b_np_1 = np.random.binomial(1,.8, n)\n",
      "    \n",
      "    cdef int_t [:] x = x_np\n",
      "    cdef int_t [:] b_0 = b_np_0\n",
      "    cdef int_t [:] b_1 = b_np_1\n",
      "        ^\n",
      "------------------------------------------------------------\n",
      "\n",
      "C:\\Users\\Glarange\\.ipython\\cython\\_cython_magic_628b80209da3b4c808191ea7345c930b.pyx:16:9: 'int_t' is not a type identifier\n",
      "\n",
      "Error compiling Cython file:\n",
      "------------------------------------------------------------\n",
      "...\n",
      "    \n",
      "    x[0] = x0\n",
      "    \n",
      "    for t in range(1,n):\n",
      "        if x[t]==0:\n",
      "            x[t+1] = b_0[t] # if 0 (Low) move to 1 (High) with P=.1\n",
      "              ^\n",
      "------------------------------------------------------------\n",
      "\n",
      "C:\\Users\\Glarange\\.ipython\\cython\\_cython_magic_628b80209da3b4c808191ea7345c930b.pyx:22:15: Compiler crash in OptimizeBuiltinCalls\n",
      "\n",
      "ModuleNode.body = StatListNode(_cython_magic_628b80209da3b4c808191ea7345c930b.pyx:2:0)\n",
      "StatListNode.stats[4] = StatListNode(_cython_magic_628b80209da3b4c808191ea7345c930b.pyx:7:0)\n",
      "StatListNode.stats[0] = DefNode(_cython_magic_628b80209da3b4c808191ea7345c930b.pyx:7:0,\n",
      "    modifiers = [...]/0,\n",
      "    name = 'C_ython',\n",
      "    np_args_idx = [...]/0,\n",
      "    num_required_args = 2,\n",
      "    py_wrapper_required = True,\n",
      "    reqd_kw_flags_cname = '0',\n",
      "    used = True)\n",
      "DefNode.body = StatListNode(_cython_magic_628b80209da3b4c808191ea7345c930b.pyx:8:4,\n",
      "    is_terminator = True)\n",
      "StatListNode.stats[7] = LetNode(_cython_magic_628b80209da3b4c808191ea7345c930b.pyx:20:4)\n",
      "LetNode.body = ForFromStatNode(_cython_magic_628b80209da3b4c808191ea7345c930b.pyx:20:4,\n",
      "    from_range = True,\n",
      "    relation1 = '<=',\n",
      "    relation2 = '<')\n",
      "ForFromStatNode.body = StatListNode(_cython_magic_628b80209da3b4c808191ea7345c930b.pyx:21:8)\n",
      "StatListNode.stats[0] = IfStatNode(_cython_magic_628b80209da3b4c808191ea7345c930b.pyx:21:8)\n",
      "IfStatNode.if_clauses[0] = IfClauseNode(_cython_magic_628b80209da3b4c808191ea7345c930b.pyx:21:11)\n",
      "IfClauseNode.body = StatListNode(_cython_magic_628b80209da3b4c808191ea7345c930b.pyx:22:24)\n",
      "StatListNode.stats[0] = SingleAssignmentNode(_cython_magic_628b80209da3b4c808191ea7345c930b.pyx:22:24)\n",
      "SingleAssignmentNode.lhs = IndexNode(_cython_magic_628b80209da3b4c808191ea7345c930b.pyx:22:13,\n",
      "    is_subscript = True,\n",
      "    result_is_used = True,\n",
      "    use_managed_ref = True)\n",
      "IndexNode.index = AddNode(_cython_magic_628b80209da3b4c808191ea7345c930b.pyx:22:15,\n",
      "    infix = True,\n",
      "    operator = '+',\n",
      "    result_is_used = True,\n",
      "    use_managed_ref = True)\n",
      "\n",
      "Compiler crash traceback from this point on:\n",
      "  File \"Cython\\Compiler\\Visitor.py\", line 180, in Cython.Compiler.Visitor.TreeVisitor._visit\n",
      "  File \"Cython\\Compiler\\Visitor.py\", line 514, in Cython.Compiler.Visitor.MethodDispatcherTransform.visit_BinopNode\n",
      "  File \"Cython\\Compiler\\Visitor.py\", line 528, in Cython.Compiler.Visitor.MethodDispatcherTransform._visit_binop_node\n",
      "AttributeError: 'NoneType' object has no attribute 'is_builtin_type'\n"
     ]
    },
    {
     "ename": "TypeError",
     "evalue": "object of type 'NoneType' has no len()",
     "output_type": "error",
     "traceback": [
      "\u001b[1;31m---------------------------------------------------------------------------\u001b[0m",
      "\u001b[1;31mTypeError\u001b[0m                                 Traceback (most recent call last)",
      "\u001b[1;32m<ipython-input-70-694cb4cf6b1d>\u001b[0m in \u001b[0;36m<module>\u001b[1;34m()\u001b[0m\n\u001b[1;32m----> 1\u001b[1;33m \u001b[0mget_ipython\u001b[0m\u001b[1;33m(\u001b[0m\u001b[1;33m)\u001b[0m\u001b[1;33m.\u001b[0m\u001b[0mrun_cell_magic\u001b[0m\u001b[1;33m(\u001b[0m\u001b[1;34m'cython'\u001b[0m\u001b[1;33m,\u001b[0m \u001b[1;34m''\u001b[0m\u001b[1;33m,\u001b[0m \u001b[1;34m'\\nimport numpy as np\\nfrom numpy.random import binomial\\nimport quantecon as qe\\nfrom numpy cimport float_t\\n\\ndef C_ython(double x0, int n):\\n    cdef int t\\n    \\n    x_np = np.zeros(n+1, dtype=int)\\n    b_np_0 = np.random.binomial(1,.1, n)\\n    b_np_1 = np.random.binomial(1,.8, n)\\n    \\n    cdef int_t [:] x = x_np\\n    cdef int_t [:] b_0 = b_np_0\\n    cdef int_t [:] b_1 = b_np_1\\n    \\n    x[0] = x0\\n    \\n    for t in range(1,n):\\n        if x[t]==0:\\n            x[t+1] = b_0[t] # if 0 (Low) move to 1 (High) with P=.1\\n        else:\\n            x[t+1] = b_1[t]\\n    return np.asarray(x)'\u001b[0m\u001b[1;33m)\u001b[0m\u001b[1;33m\u001b[0m\u001b[0m\n\u001b[0m",
      "\u001b[1;32m~\\Anaconda3\\lib\\site-packages\\IPython\\core\\interactiveshell.py\u001b[0m in \u001b[0;36mrun_cell_magic\u001b[1;34m(self, magic_name, line, cell)\u001b[0m\n\u001b[0;32m   2165\u001b[0m             \u001b[0mmagic_arg_s\u001b[0m \u001b[1;33m=\u001b[0m \u001b[0mself\u001b[0m\u001b[1;33m.\u001b[0m\u001b[0mvar_expand\u001b[0m\u001b[1;33m(\u001b[0m\u001b[0mline\u001b[0m\u001b[1;33m,\u001b[0m \u001b[0mstack_depth\u001b[0m\u001b[1;33m)\u001b[0m\u001b[1;33m\u001b[0m\u001b[0m\n\u001b[0;32m   2166\u001b[0m             \u001b[1;32mwith\u001b[0m \u001b[0mself\u001b[0m\u001b[1;33m.\u001b[0m\u001b[0mbuiltin_trap\u001b[0m\u001b[1;33m:\u001b[0m\u001b[1;33m\u001b[0m\u001b[0m\n\u001b[1;32m-> 2167\u001b[1;33m                 \u001b[0mresult\u001b[0m \u001b[1;33m=\u001b[0m \u001b[0mfn\u001b[0m\u001b[1;33m(\u001b[0m\u001b[0mmagic_arg_s\u001b[0m\u001b[1;33m,\u001b[0m \u001b[0mcell\u001b[0m\u001b[1;33m)\u001b[0m\u001b[1;33m\u001b[0m\u001b[0m\n\u001b[0m\u001b[0;32m   2168\u001b[0m             \u001b[1;32mreturn\u001b[0m \u001b[0mresult\u001b[0m\u001b[1;33m\u001b[0m\u001b[0m\n\u001b[0;32m   2169\u001b[0m \u001b[1;33m\u001b[0m\u001b[0m\n",
      "\u001b[1;32m<decorator-gen-128>\u001b[0m in \u001b[0;36mcython\u001b[1;34m(self, line, cell)\u001b[0m\n",
      "\u001b[1;32m~\\Anaconda3\\lib\\site-packages\\IPython\\core\\magic.py\u001b[0m in \u001b[0;36m<lambda>\u001b[1;34m(f, *a, **k)\u001b[0m\n\u001b[0;32m    185\u001b[0m     \u001b[1;31m# but it's overkill for just that one bit of state.\u001b[0m\u001b[1;33m\u001b[0m\u001b[1;33m\u001b[0m\u001b[0m\n\u001b[0;32m    186\u001b[0m     \u001b[1;32mdef\u001b[0m \u001b[0mmagic_deco\u001b[0m\u001b[1;33m(\u001b[0m\u001b[0marg\u001b[0m\u001b[1;33m)\u001b[0m\u001b[1;33m:\u001b[0m\u001b[1;33m\u001b[0m\u001b[0m\n\u001b[1;32m--> 187\u001b[1;33m         \u001b[0mcall\u001b[0m \u001b[1;33m=\u001b[0m \u001b[1;32mlambda\u001b[0m \u001b[0mf\u001b[0m\u001b[1;33m,\u001b[0m \u001b[1;33m*\u001b[0m\u001b[0ma\u001b[0m\u001b[1;33m,\u001b[0m \u001b[1;33m**\u001b[0m\u001b[0mk\u001b[0m\u001b[1;33m:\u001b[0m \u001b[0mf\u001b[0m\u001b[1;33m(\u001b[0m\u001b[1;33m*\u001b[0m\u001b[0ma\u001b[0m\u001b[1;33m,\u001b[0m \u001b[1;33m**\u001b[0m\u001b[0mk\u001b[0m\u001b[1;33m)\u001b[0m\u001b[1;33m\u001b[0m\u001b[0m\n\u001b[0m\u001b[0;32m    188\u001b[0m \u001b[1;33m\u001b[0m\u001b[0m\n\u001b[0;32m    189\u001b[0m         \u001b[1;32mif\u001b[0m \u001b[0mcallable\u001b[0m\u001b[1;33m(\u001b[0m\u001b[0marg\u001b[0m\u001b[1;33m)\u001b[0m\u001b[1;33m:\u001b[0m\u001b[1;33m\u001b[0m\u001b[0m\n",
      "\u001b[1;32m~\\Anaconda3\\lib\\site-packages\\Cython\\Build\\IpythonMagic.py\u001b[0m in \u001b[0;36mcython\u001b[1;34m(self, line, cell)\u001b[0m\n\u001b[0;32m    319\u001b[0m         \u001b[1;32mif\u001b[0m \u001b[0mneed_cythonize\u001b[0m\u001b[1;33m:\u001b[0m\u001b[1;33m\u001b[0m\u001b[0m\n\u001b[0;32m    320\u001b[0m             \u001b[0mextensions\u001b[0m \u001b[1;33m=\u001b[0m \u001b[0mself\u001b[0m\u001b[1;33m.\u001b[0m\u001b[0m_cythonize\u001b[0m\u001b[1;33m(\u001b[0m\u001b[0mmodule_name\u001b[0m\u001b[1;33m,\u001b[0m \u001b[0mcode\u001b[0m\u001b[1;33m,\u001b[0m \u001b[0mlib_dir\u001b[0m\u001b[1;33m,\u001b[0m \u001b[0margs\u001b[0m\u001b[1;33m,\u001b[0m \u001b[0mquiet\u001b[0m\u001b[1;33m=\u001b[0m\u001b[0margs\u001b[0m\u001b[1;33m.\u001b[0m\u001b[0mquiet\u001b[0m\u001b[1;33m)\u001b[0m\u001b[1;33m\u001b[0m\u001b[0m\n\u001b[1;32m--> 321\u001b[1;33m             \u001b[1;32massert\u001b[0m \u001b[0mlen\u001b[0m\u001b[1;33m(\u001b[0m\u001b[0mextensions\u001b[0m\u001b[1;33m)\u001b[0m \u001b[1;33m==\u001b[0m \u001b[1;36m1\u001b[0m\u001b[1;33m\u001b[0m\u001b[0m\n\u001b[0m\u001b[0;32m    322\u001b[0m             \u001b[0mextension\u001b[0m \u001b[1;33m=\u001b[0m \u001b[0mextensions\u001b[0m\u001b[1;33m[\u001b[0m\u001b[1;36m0\u001b[0m\u001b[1;33m]\u001b[0m\u001b[1;33m\u001b[0m\u001b[0m\n\u001b[0;32m    323\u001b[0m             \u001b[0mself\u001b[0m\u001b[1;33m.\u001b[0m\u001b[0m_code_cache\u001b[0m\u001b[1;33m[\u001b[0m\u001b[0mkey\u001b[0m\u001b[1;33m]\u001b[0m \u001b[1;33m=\u001b[0m \u001b[0mmodule_name\u001b[0m\u001b[1;33m\u001b[0m\u001b[0m\n",
      "\u001b[1;31mTypeError\u001b[0m: object of type 'NoneType' has no len()"
     ]
    }
   ],
   "source": [
    "%%cython\n",
    "\n",
    "import numpy as np\n",
    "from numpy.random import binomial\n",
    "import quantecon as qe\n",
    "from numpy cimport float_t\n",
    "\n",
    "def C_ython(double x0, int n):\n",
    "    cdef int t\n",
    "    \n",
    "    x_np = np.zeros(n+1, dtype=int)\n",
    "    b_np_0 = np.random.binomial(1,.1, n)\n",
    "    b_np_1 = np.random.binomial(1,.8, n)\n",
    "    \n",
    "    cdef int_t [:] x = x_np\n",
    "    cdef int_t [:] b_0 = b_np_0\n",
    "    cdef int_t [:] b_1 = b_np_1\n",
    "    \n",
    "    x[0] = x0\n",
    "    \n",
    "    for t in range(1,n):\n",
    "        if x[t]==0:\n",
    "            x[t+1] = b_0[t] # if 0 (Low) move to 1 (High) with P=.1\n",
    "        else:\n",
    "            x[t+1] = b_1[t]\n",
    "    return np.asarray(x)"
   ]
  },
  {
   "cell_type": "code",
   "execution_count": null,
   "metadata": {},
   "outputs": [],
   "source": []
  }
 ],
 "metadata": {
  "kernelspec": {
   "display_name": "Python 3",
   "language": "python",
   "name": "python3"
  },
  "language_info": {
   "codemirror_mode": {
    "name": "ipython",
    "version": 3
   },
   "file_extension": ".py",
   "mimetype": "text/x-python",
   "name": "python",
   "nbconvert_exporter": "python",
   "pygments_lexer": "ipython3",
   "version": "3.6.5"
  }
 },
 "nbformat": 4,
 "nbformat_minor": 2
}
